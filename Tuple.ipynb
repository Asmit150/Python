{
 "cells": [
  {
   "cell_type": "code",
   "execution_count": 1,
   "id": "cf52d8b2",
   "metadata": {},
   "outputs": [
    {
     "data": {
      "text/plain": [
       "int"
      ]
     },
     "execution_count": 1,
     "metadata": {},
     "output_type": "execute_result"
    }
   ],
   "source": [
    "tup0=(1)      #have to use comma(,) otherwise python will be confused and show 'int' \n",
    "type(tup0)     #like tup=(1,)"
   ]
  },
  {
   "cell_type": "code",
   "execution_count": 2,
   "id": "c1e48a8e",
   "metadata": {},
   "outputs": [
    {
     "name": "stdout",
     "output_type": "stream",
     "text": [
      "<class 'tuple'>\n"
     ]
    }
   ],
   "source": [
    "tup=()\n",
    "print(type(tup))\n"
   ]
  },
  {
   "cell_type": "code",
   "execution_count": 3,
   "id": "2a0e3c00",
   "metadata": {},
   "outputs": [
    {
     "name": "stdout",
     "output_type": "stream",
     "text": [
      "1\n",
      "2\n",
      "3\n",
      "[4, 5, 4, 5]\n"
     ]
    }
   ],
   "source": [
    "tup4=(1,2,3,4,5,4,5)\n",
    "a,b,c,*d=tup4\n",
    "print(a)\n",
    "print(b)\n",
    "print(c)\n",
    "print(d)"
   ]
  },
  {
   "cell_type": "code",
   "execution_count": null,
   "id": "9121139d",
   "metadata": {},
   "outputs": [],
   "source": []
  },
  {
   "cell_type": "code",
   "execution_count": 4,
   "id": "771e097e",
   "metadata": {},
   "outputs": [
    {
     "name": "stdout",
     "output_type": "stream",
     "text": [
      "<class 'tuple'> (3, 2, 1)\n"
     ]
    }
   ],
   "source": [
    "tup1=(3,2,1)\n",
    "print(type(tup1),tup1)"
   ]
  },
  {
   "cell_type": "code",
   "execution_count": 5,
   "id": "4943872f",
   "metadata": {},
   "outputs": [
    {
     "name": "stdout",
     "output_type": "stream",
     "text": [
      "<class 'list'>\n"
     ]
    }
   ],
   "source": [
    "tup2=(1,2,3,4)\n",
    "li=list(tup2)                      #Convert tuple to list to change the data\n",
    "print(type(li))\n",
    "\n"
   ]
  },
  {
   "cell_type": "code",
   "execution_count": 17,
   "id": "22c6c9af",
   "metadata": {},
   "outputs": [
    {
     "name": "stdout",
     "output_type": "stream",
     "text": [
      "(1, 2, 3, 4, 5, 6, 7, 1, 2, 3, 4)\n"
     ]
    }
   ],
   "source": [
    "tup3=tup2+(5,6,7)+tup2             #adding data\n",
    "print(tup3)"
   ]
  },
  {
   "cell_type": "code",
   "execution_count": 7,
   "id": "da890857",
   "metadata": {},
   "outputs": [
    {
     "name": "stdout",
     "output_type": "stream",
     "text": [
      "1\n",
      "2\n",
      "[3, 4, 5, 6, 7, 1, 2, 3, 4]\n"
     ]
    }
   ],
   "source": [
    "tup4=(1,2,3,4,5,6,7,8)\n",
    "p,q,*r=tup3                        #unpacking tuple\n",
    "print(p)\n",
    "print(q)\n",
    "print(r)"
   ]
  },
  {
   "cell_type": "code",
   "execution_count": 8,
   "id": "1085459c",
   "metadata": {},
   "outputs": [
    {
     "name": "stdout",
     "output_type": "stream",
     "text": [
      "yes\n"
     ]
    }
   ],
   "source": [
    "if 2 in tup3:\n",
    "    print(\"yes\")\n",
    "else:\n",
    "    print(\"No\")"
   ]
  },
  {
   "cell_type": "code",
   "execution_count": 9,
   "id": "20eb1ce4",
   "metadata": {},
   "outputs": [
    {
     "data": {
      "text/plain": [
       "['Alina', 'Aliza', 'Alju', 'Alish', 'Aayush']"
      ]
     },
     "execution_count": 9,
     "metadata": {},
     "output_type": "execute_result"
    }
   ],
   "source": [
    "Siblings=(\"Alina\",\"Aliza\",\"Alju\",\"Alish\",\"Aayush\")\n",
    "temp=list(Siblings) #changing tuble to list to maipulate the tuple.\n",
    "temp\n",
    "\n"
   ]
  },
  {
   "cell_type": "code",
   "execution_count": 10,
   "id": "5cab2180",
   "metadata": {},
   "outputs": [
    {
     "data": {
      "text/plain": [
       "['Alina', 'Aliza', 'Alju', 'Alish', 'Aayush', 'Asmit']"
      ]
     },
     "execution_count": 10,
     "metadata": {},
     "output_type": "execute_result"
    }
   ],
   "source": [
    "temp.append(\"Asmit\")         #adding\n",
    "temp"
   ]
  },
  {
   "cell_type": "code",
   "execution_count": 11,
   "id": "d5d93b90",
   "metadata": {},
   "outputs": [
    {
     "data": {
      "text/plain": [
       "['Alina', 'Aliza', 'Alish', 'Aayush', 'Asmit']"
      ]
     },
     "execution_count": 11,
     "metadata": {},
     "output_type": "execute_result"
    }
   ],
   "source": [
    "temp.pop(2)   #removing \n",
    "temp"
   ]
  },
  {
   "cell_type": "code",
   "execution_count": 12,
   "id": "4d211030",
   "metadata": {},
   "outputs": [
    {
     "data": {
      "text/plain": [
       "['Alina', 'Hikmat', 'Alish', 'Aayush', 'Asmit']"
      ]
     },
     "execution_count": 12,
     "metadata": {},
     "output_type": "execute_result"
    }
   ],
   "source": [
    "temp[1]=\"Hikmat\"    #changing\n",
    "temp\n"
   ]
  },
  {
   "cell_type": "code",
   "execution_count": 13,
   "id": "b39b169a",
   "metadata": {},
   "outputs": [
    {
     "data": {
      "text/plain": [
       "('Alina', 'Hikmat', 'Alish', 'Aayush', 'Asmit')"
      ]
     },
     "execution_count": 13,
     "metadata": {},
     "output_type": "execute_result"
    }
   ],
   "source": [
    "Sibling=tuple(temp)\n",
    "Sibling\n"
   ]
  },
  {
   "cell_type": "code",
   "execution_count": 14,
   "id": "37b068fb",
   "metadata": {},
   "outputs": [
    {
     "name": "stdout",
     "output_type": "stream",
     "text": [
      "Count of 3 in tuple is: 3\n"
     ]
    }
   ],
   "source": [
    "Tuple=(1,2,3,1,3,3,5,6,2)\n",
    "tup=Tuple.count(3)\n",
    "print(\"Count of 3 in tuple is:\",tup)"
   ]
  },
  {
   "cell_type": "code",
   "execution_count": 15,
   "id": "19d527aa",
   "metadata": {},
   "outputs": [
    {
     "data": {
      "text/plain": [
       "6"
      ]
     },
     "execution_count": 15,
     "metadata": {},
     "output_type": "execute_result"
    }
   ],
   "source": [
    "Tuple.index(5)"
   ]
  },
  {
   "cell_type": "code",
   "execution_count": 16,
   "id": "a7e7d773",
   "metadata": {},
   "outputs": [
    {
     "data": {
      "text/plain": [
       "7"
      ]
     },
     "execution_count": 16,
     "metadata": {},
     "output_type": "execute_result"
    }
   ],
   "source": [
    "Tuple.index(6,5,8)"
   ]
  },
  {
   "cell_type": "code",
   "execution_count": 20,
   "id": "9e55a778",
   "metadata": {},
   "outputs": [
    {
     "name": "stdout",
     "output_type": "stream",
     "text": [
      "26\n"
     ]
    }
   ],
   "source": [
    "s=sum(Tuple)\n",
    "print(s)"
   ]
  },
  {
   "cell_type": "code",
   "execution_count": 23,
   "id": "04a7ab60",
   "metadata": {},
   "outputs": [
    {
     "name": "stdout",
     "output_type": "stream",
     "text": [
      "Maximun: 6\n",
      "Minimum: 1\n"
     ]
    }
   ],
   "source": [
    "print(\"Maximun:\",max(Tuple))\n",
    "print(\"Minimum:\",min(Tuple))\n"
   ]
  },
  {
   "cell_type": "code",
   "execution_count": 25,
   "id": "4d813ee8",
   "metadata": {},
   "outputs": [
    {
     "data": {
      "text/plain": [
       "[1, 2, 4, 5, 64]"
      ]
     },
     "execution_count": 25,
     "metadata": {},
     "output_type": "execute_result"
    }
   ],
   "source": [
    "a=(1,4,5,64,2)\n",
    "sorted(a)"
   ]
  }
 ],
 "metadata": {
  "kernelspec": {
   "display_name": "Python 3 (ipykernel)",
   "language": "python",
   "name": "python3"
  },
  "language_info": {
   "codemirror_mode": {
    "name": "ipython",
    "version": 3
   },
   "file_extension": ".py",
   "mimetype": "text/x-python",
   "name": "python",
   "nbconvert_exporter": "python",
   "pygments_lexer": "ipython3",
   "version": "3.9.13"
  }
 },
 "nbformat": 4,
 "nbformat_minor": 5
}
