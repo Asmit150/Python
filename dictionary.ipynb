{
 "cells": [
  {
   "cell_type": "code",
   "execution_count": 1,
   "id": "681ea2aa",
   "metadata": {},
   "outputs": [
    {
     "name": "stdout",
     "output_type": "stream",
     "text": [
      "{'marks': [90, 30, 55], 'roll': [1, 2, 3], 'college': 'Texas'}\n"
     ]
    }
   ],
   "source": [
    "a={\"marks\":[90,30,55],\"roll\":[1,2,3]}    #list inside the dictionary\n",
    "a[\"college\"]=\"Texas\"\n",
    "print(a)"
   ]
  },
  {
   "cell_type": "code",
   "execution_count": 2,
   "id": "b16abaf9",
   "metadata": {},
   "outputs": [
    {
     "name": "stdout",
     "output_type": "stream",
     "text": [
      "{'marks': [90, 30, 55], 'roll': [1, 2, 3], 'college': 'Texas', 'Name': ['Asmit', 'oli']}\n"
     ]
    }
   ],
   "source": [
    "a.update({\"Name\":[\"Asmit\",\"oli\"]})\n",
    "print(a)"
   ]
  },
  {
   "cell_type": "code",
   "execution_count": 3,
   "id": "b9d2c3ed",
   "metadata": {},
   "outputs": [
    {
     "name": "stdout",
     "output_type": "stream",
     "text": [
      "Hi [1, 2, 3]\n",
      "Hello 2\n",
      "Namaste 3\n",
      "Asalam Malikum 4\n"
     ]
    }
   ],
   "source": [
    "d={\"Hi\":[1,2,3],\"Hello\":2,\"Namaste\":3,\"Asalam Malikum\":4}\n",
    "for key,value in d.items():\n",
    "    print(key,value)"
   ]
  },
  {
   "cell_type": "code",
   "execution_count": 4,
   "id": "6c4c3848",
   "metadata": {},
   "outputs": [
    {
     "name": "stdout",
     "output_type": "stream",
     "text": [
      "[1, 2, 3]\n",
      "2\n",
      "3\n",
      "4\n"
     ]
    }
   ],
   "source": [
    "for i in d.values():\n",
    "    print(i)"
   ]
  },
  {
   "cell_type": "code",
   "execution_count": 5,
   "id": "f2f1a0ad",
   "metadata": {},
   "outputs": [
    {
     "name": "stdout",
     "output_type": "stream",
     "text": [
      "[1, 2, 3]\n",
      "2\n",
      "3\n",
      "4\n"
     ]
    }
   ],
   "source": [
    "x={\"Hi\":[1,2,3],\"Hello\":2,\"Namaste\":3,\"Asalam Malikum\":4}\n",
    "for i in d.keys():\n",
    "    print(d[i])"
   ]
  },
  {
   "cell_type": "code",
   "execution_count": 14,
   "id": "c8f36e04",
   "metadata": {},
   "outputs": [
    {
     "data": {
      "text/plain": [
       "{'Adress': 'Dang'}"
      ]
     },
     "execution_count": 14,
     "metadata": {},
     "output_type": "execute_result"
    }
   ],
   "source": [
    "dict1={\"Name\":\"Asmit oli\",\"Adress\":\"Dang\"}\n",
    "dict1.pop(\"Name\")\n",
    "dict1"
   ]
  },
  {
   "cell_type": "markdown",
   "id": "7b1c7eae",
   "metadata": {},
   "source": [
    "# Dictionary membership"
   ]
  },
  {
   "cell_type": "code",
   "execution_count": 20,
   "id": "59edb9ff",
   "metadata": {},
   "outputs": [
    {
     "name": "stdout",
     "output_type": "stream",
     "text": [
      "True\n",
      "True\n",
      "True\n",
      "False\n",
      "False\n",
      "True\n"
     ]
    }
   ],
   "source": [
    "a={\"x\":1,\"z\":3,\"y\":2}\n",
    "print(all(a))\n",
    "print(any(a))\n",
    "print(all({}))\n",
    "print(any({}))\n",
    "print(all({\"\":2,\"x\":3}))\n",
    "print(any({\"\":2,\"x\":3}))"
   ]
  },
  {
   "cell_type": "code",
   "execution_count": 28,
   "id": "c8a7f289",
   "metadata": {},
   "outputs": [
    {
     "name": "stdout",
     "output_type": "stream",
     "text": [
      "dict_keys(['a', 'c', 'd', 'b'])\n",
      "dict_values([1, 3, 4, 2])\n",
      "dict_items([('a', 1), ('c', 3), ('d', 4), ('b', 2)])\n"
     ]
    }
   ],
   "source": [
    "y={\"a\":1,\"c\":3,\"d\":4,\"b\":2}\n",
    "print(y.keys())\n",
    "print(y.values())\n",
    "print(y.items())\n"
   ]
  },
  {
   "cell_type": "code",
   "execution_count": 29,
   "id": "0fe4c2b8",
   "metadata": {},
   "outputs": [
    {
     "name": "stdout",
     "output_type": "stream",
     "text": [
      "{'a': 1, 'c': 3, 'd': 4, 'b': 2}\n"
     ]
    }
   ],
   "source": [
    "x=y.copy()\n",
    "print(x)"
   ]
  },
  {
   "cell_type": "code",
   "execution_count": 31,
   "id": "ec75d4c8",
   "metadata": {},
   "outputs": [
    {
     "data": {
      "text/plain": [
       "{'a': 1, 'c': 3, 'd': 4, 'b': 2, 'e': 5}"
      ]
     },
     "execution_count": 31,
     "metadata": {},
     "output_type": "execute_result"
    }
   ],
   "source": [
    "a={\"e\":5}\n",
    "y.update(a)\n",
    "y"
   ]
  },
  {
   "cell_type": "code",
   "execution_count": null,
   "id": "aabf7844",
   "metadata": {},
   "outputs": [],
   "source": []
  },
  {
   "cell_type": "markdown",
   "id": "b7dff76c",
   "metadata": {},
   "source": [
    "# Dictionary Comprehension"
   ]
  },
  {
   "cell_type": "code",
   "execution_count": 6,
   "id": "57dead2e",
   "metadata": {},
   "outputs": [],
   "source": [
    "price={\"milk\":2.04,\"bread\":1.5,\"meat\":3}  #in dollar  "
   ]
  },
  {
   "cell_type": "code",
   "execution_count": 7,
   "id": "79c5c8ab",
   "metadata": {},
   "outputs": [],
   "source": [
    "usd_to_rs=120"
   ]
  },
  {
   "cell_type": "code",
   "execution_count": 8,
   "id": "320e1f6c",
   "metadata": {},
   "outputs": [
    {
     "data": {
      "text/plain": [
       "{'milk': 244.8, 'bread': 180.0, 'meat': 360}"
      ]
     },
     "execution_count": 8,
     "metadata": {},
     "output_type": "execute_result"
    }
   ],
   "source": [
    "{key:value*usd_to_rs for key,value in price.items()}"
   ]
  },
  {
   "cell_type": "code",
   "execution_count": 38,
   "id": "7d60a495",
   "metadata": {},
   "outputs": [],
   "source": [
    "q={\"Sudip\":20,\"Sushil\":23,\"Yogesh\":22,\"Asmit\":21}"
   ]
  },
  {
   "cell_type": "code",
   "execution_count": 39,
   "id": "e7b46566",
   "metadata": {},
   "outputs": [
    {
     "data": {
      "text/plain": [
       "{'Sudip': 20, 'Yogesh': 22}"
      ]
     },
     "execution_count": 39,
     "metadata": {},
     "output_type": "execute_result"
    }
   ],
   "source": [
    "{name:age for name,age in q.items() if age%2==0}\n",
    "\n",
    " \n",
    "\n"
   ]
  },
  {
   "cell_type": "code",
   "execution_count": null,
   "id": "7bc85e39",
   "metadata": {},
   "outputs": [],
   "source": []
  }
 ],
 "metadata": {
  "kernelspec": {
   "display_name": "Python 3 (ipykernel)",
   "language": "python",
   "name": "python3"
  },
  "language_info": {
   "codemirror_mode": {
    "name": "ipython",
    "version": 3
   },
   "file_extension": ".py",
   "mimetype": "text/x-python",
   "name": "python",
   "nbconvert_exporter": "python",
   "pygments_lexer": "ipython3",
   "version": "3.9.13"
  }
 },
 "nbformat": 4,
 "nbformat_minor": 5
}
