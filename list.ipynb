{
 "cells": [
  {
   "cell_type": "code",
   "execution_count": 1,
   "id": "4fa6f326",
   "metadata": {},
   "outputs": [
    {
     "name": "stdout",
     "output_type": "stream",
     "text": [
      "<class 'list'>\n",
      "<class 'list'>\n"
     ]
    }
   ],
   "source": [
    "a=[1,\"apple\",1.3,True]     \n",
    "b=list((1,2,\"HI\"))\n",
    "print(type(a))\n",
    "print(type(b))\n",
    "\n"
   ]
  },
  {
   "cell_type": "code",
   "execution_count": 2,
   "id": "b5671070",
   "metadata": {},
   "outputs": [
    {
     "name": "stdout",
     "output_type": "stream",
     "text": [
      "['football', 'Basketball', 'Chess', 'cricket']\n"
     ]
    }
   ],
   "source": [
    "game=[\"football\",\"Basketball\",\"Chess\",\"cricket\"]  #list(ordered)\n",
    "print(game)\n"
   ]
  },
  {
   "cell_type": "code",
   "execution_count": 3,
   "id": "4435d4a6",
   "metadata": {},
   "outputs": [
    {
     "name": "stdout",
     "output_type": "stream",
     "text": [
      "['football', 'badminton', 'Chess', 'cricket']\n"
     ]
    }
   ],
   "source": [
    "game[1]=\"badminton\"                               #list(changeable)\n",
    "print(game)\n"
   ]
  },
  {
   "cell_type": "code",
   "execution_count": 4,
   "id": "208e2f09",
   "metadata": {},
   "outputs": [
    {
     "name": "stdout",
     "output_type": "stream",
     "text": [
      "['football', 'badminton', 'Football', 'cricket']\n"
     ]
    }
   ],
   "source": [
    "game[2]=\"Football\"                                  #list(allow dublicates)\n",
    "print(game)\n"
   ]
  },
  {
   "cell_type": "code",
   "execution_count": 5,
   "id": "1e4559fe",
   "metadata": {},
   "outputs": [
    {
     "data": {
      "text/plain": [
       "['football', 'badminton', 'Football', 'cricket']"
      ]
     },
     "execution_count": 5,
     "metadata": {},
     "output_type": "execute_result"
    }
   ],
   "source": [
    "game"
   ]
  },
  {
   "cell_type": "code",
   "execution_count": 6,
   "id": "ad892b2c",
   "metadata": {},
   "outputs": [
    {
     "name": "stdout",
     "output_type": "stream",
     "text": [
      "['football', 'badminton', 'Ludo', 'Football', 'cricket']\n"
     ]
    }
   ],
   "source": [
    "game.insert(2,\"Ludo\")                              #insert(add element to list) imp\n",
    "print(game)\n"
   ]
  },
  {
   "cell_type": "code",
   "execution_count": 7,
   "id": "c3ea7774",
   "metadata": {},
   "outputs": [
    {
     "name": "stdout",
     "output_type": "stream",
     "text": [
      "['football', 'badminton', 'Ludo', 'Football', 'cricket', 'Mobile Legend', 'COC']\n"
     ]
    }
   ],
   "source": [
    "other=[\"Mobile Legend\",\"COC\"]\n",
    "game.extend(other)         #extend(add list to the another list as individual)\n",
    "print(game)\n"
   ]
  },
  {
   "cell_type": "code",
   "execution_count": 8,
   "id": "a3b7ed45",
   "metadata": {},
   "outputs": [
    {
     "data": {
      "text/plain": [
       "[1, 2, 3, 4]"
      ]
     },
     "execution_count": 8,
     "metadata": {},
     "output_type": "execute_result"
    }
   ],
   "source": [
    "a=[]\n",
    "a.extend([1,2,3,4])\n",
    "a"
   ]
  },
  {
   "cell_type": "code",
   "execution_count": 9,
   "id": "f9533c3d",
   "metadata": {},
   "outputs": [
    {
     "name": "stdout",
     "output_type": "stream",
     "text": [
      "['football', 'badminton', 'Ludo', 'Football', 'cricket', 'Mobile Legend', 'COC', ['hockey', 'Horse racing']]\n"
     ]
    }
   ],
   "source": [
    "game.append([\"hockey\",\"Horse racing\"])    \n",
    "print(game)                                     #append(add element to last of list)\n",
    "\n",
    "\n"
   ]
  },
  {
   "cell_type": "code",
   "execution_count": 10,
   "id": "425b54c2",
   "metadata": {},
   "outputs": [
    {
     "data": {
      "text/plain": [
       "[1, 2, 3, 4, 5, [7, 8, 9]]"
      ]
     },
     "execution_count": 10,
     "metadata": {},
     "output_type": "execute_result"
    }
   ],
   "source": [
    "list1=[1,2,3,4,5]\n",
    "list1.append([7,8,9])\n",
    "list1"
   ]
  },
  {
   "cell_type": "code",
   "execution_count": 11,
   "id": "e49ee019",
   "metadata": {},
   "outputs": [
    {
     "data": {
      "text/plain": [
       "['b', 'c', 'd']"
      ]
     },
     "execution_count": 11,
     "metadata": {},
     "output_type": "execute_result"
    }
   ],
   "source": [
    "l1=[\"a\",\"b\",\"c\",\"d\"]\n",
    "l1.remove(\"a\")\n",
    "l1"
   ]
  },
  {
   "cell_type": "code",
   "execution_count": 12,
   "id": "c41be8f9",
   "metadata": {},
   "outputs": [],
   "source": [
    "a=[13,4,5,6,6]\n",
    "result=a.append(5)\n",
    "\n"
   ]
  },
  {
   "cell_type": "code",
   "execution_count": 13,
   "id": "5958769b",
   "metadata": {},
   "outputs": [
    {
     "data": {
      "text/plain": [
       "'asmit'"
      ]
     },
     "execution_count": 13,
     "metadata": {},
     "output_type": "execute_result"
    }
   ],
   "source": [
    "l2=[\"python\",\"is\",\"asmit\",\"language\"]\n",
    "s=l2.pop(2)\n",
    "s"
   ]
  },
  {
   "cell_type": "code",
   "execution_count": 14,
   "id": "bad1ceb3",
   "metadata": {},
   "outputs": [
    {
     "data": {
      "text/plain": [
       "0"
      ]
     },
     "execution_count": 14,
     "metadata": {},
     "output_type": "execute_result"
    }
   ],
   "source": [
    "a=[1,2,3,4,1,1,4,5]\n",
    "a.index(1)"
   ]
  },
  {
   "cell_type": "code",
   "execution_count": 15,
   "id": "70ee8297",
   "metadata": {},
   "outputs": [
    {
     "data": {
      "text/plain": [
       "4"
      ]
     },
     "execution_count": 15,
     "metadata": {},
     "output_type": "execute_result"
    }
   ],
   "source": [
    "    a.index(1,2,6)"
   ]
  },
  {
   "cell_type": "code",
   "execution_count": 16,
   "id": "f166d05e",
   "metadata": {},
   "outputs": [
    {
     "name": "stdout",
     "output_type": "stream",
     "text": [
      "Yes\n"
     ]
    }
   ],
   "source": [
    "if \"Ludo\" in game:\n",
    "    print(\"Yes\")\n",
    "else:\n",
    "    print(\"No\")"
   ]
  },
  {
   "cell_type": "code",
   "execution_count": 17,
   "id": "d2802d88",
   "metadata": {},
   "outputs": [
    {
     "name": "stdout",
     "output_type": "stream",
     "text": [
      "No\n"
     ]
    }
   ],
   "source": [
    "if (\"Ludo\" and \"fruit\") in game:\n",
    "    print(\"Yes\")\n",
    "else:\n",
    "    print(\"No\")"
   ]
  },
  {
   "cell_type": "code",
   "execution_count": 18,
   "id": "da927f6d",
   "metadata": {},
   "outputs": [
    {
     "data": {
      "text/plain": [
       "[2, 3, 5, 6, 8, 9]"
      ]
     },
     "execution_count": 18,
     "metadata": {},
     "output_type": "execute_result"
    }
   ],
   "source": [
    "list=[3,6,2,5,8,9]\n",
    "list.sort()          #sort to ascending order\n",
    "list "
   ]
  },
  {
   "cell_type": "code",
   "execution_count": 19,
   "id": "bffab7a8",
   "metadata": {},
   "outputs": [
    {
     "data": {
      "text/plain": [
       "[9, 8, 6, 5, 3, 2]"
      ]
     },
     "execution_count": 19,
     "metadata": {},
     "output_type": "execute_result"
    }
   ],
   "source": [
    "list.sort(reverse=True)     #sort to desending order\n",
    "list"
   ]
  },
  {
   "cell_type": "code",
   "execution_count": 20,
   "id": "de5a6f79",
   "metadata": {},
   "outputs": [
    {
     "data": {
      "text/plain": [
       "['a', 'e', 'i', 'o', 'u']"
      ]
     },
     "execution_count": 20,
     "metadata": {},
     "output_type": "execute_result"
    }
   ],
   "source": [
    "vowels=[\"e\",\"a\",\"o\",\"i\",\"u\"]\n",
    "vowels.sort()\n",
    "vowels"
   ]
  },
  {
   "cell_type": "code",
   "execution_count": 21,
   "id": "e0691ecf",
   "metadata": {},
   "outputs": [
    {
     "data": {
      "text/plain": [
       "[(3, 1), (5, 2), (6, 8)]"
      ]
     },
     "execution_count": 21,
     "metadata": {},
     "output_type": "execute_result"
    }
   ],
   "source": [
    "l3=[(5,2),(3,1),(6,8)]      \n",
    "def get_sec_no(data):\n",
    "    return data[1]\n",
    "l3.sort(key=get_sec_no)\n",
    "l3"
   ]
  },
  {
   "cell_type": "code",
   "execution_count": 39,
   "id": "a161dac1",
   "metadata": {},
   "outputs": [
    {
     "data": {
      "text/plain": [
       "[(6, 1), (4, 12, 5), (6, 7, 8), (11, 12)]"
      ]
     },
     "execution_count": 39,
     "metadata": {},
     "output_type": "execute_result"
    }
   ],
   "source": [
    "b=[(4,12,5),(6,1),(11,12),(6,7,8)]\n",
    "def get_sec_no(data1):\n",
    "    \n",
    "    return data1[-1]\n",
    "b.sort(key=get_sec_no)\n",
    "b"
   ]
  },
  {
   "cell_type": "code",
   "execution_count": 22,
   "id": "28768623",
   "metadata": {},
   "outputs": [
    {
     "data": {
      "text/plain": [
       "[2, 3, 1]"
      ]
     },
     "execution_count": 22,
     "metadata": {},
     "output_type": "execute_result"
    }
   ],
   "source": [
    "mark=[3,2,6,3,2,1,8]\n",
    "mark[1:6:2]"
   ]
  },
  {
   "cell_type": "code",
   "execution_count": 23,
   "id": "60f1758e",
   "metadata": {},
   "outputs": [
    {
     "data": {
      "text/plain": [
       "['e', 'i', 'o', 'u']"
      ]
     },
     "execution_count": 23,
     "metadata": {},
     "output_type": "execute_result"
    }
   ],
   "source": [
    "l1=[\"a\",\"e\",\"i\",\"o\",\"u\"]\n",
    "l1[1:]"
   ]
  },
  {
   "cell_type": "code",
   "execution_count": 24,
   "id": "45f4b2f5",
   "metadata": {},
   "outputs": [
    {
     "data": {
      "text/plain": [
       "['e', 'i', 'o']"
      ]
     },
     "execution_count": 24,
     "metadata": {},
     "output_type": "execute_result"
    }
   ],
   "source": [
    "l1[1:4]"
   ]
  },
  {
   "cell_type": "code",
   "execution_count": 25,
   "id": "4b1f962f",
   "metadata": {},
   "outputs": [
    {
     "data": {
      "text/plain": [
       "['e', 'i', 'o', 'u']"
      ]
     },
     "execution_count": 25,
     "metadata": {},
     "output_type": "execute_result"
    }
   ],
   "source": [
    "l1[-4:7]"
   ]
  },
  {
   "cell_type": "code",
   "execution_count": 26,
   "id": "4efe6dcb",
   "metadata": {},
   "outputs": [
    {
     "data": {
      "text/plain": [
       "[2, 6, 3]"
      ]
     },
     "execution_count": 26,
     "metadata": {},
     "output_type": "execute_result"
    }
   ],
   "source": [
    "mark[1:4]"
   ]
  },
  {
   "cell_type": "code",
   "execution_count": 27,
   "id": "726c2428",
   "metadata": {},
   "outputs": [
    {
     "data": {
      "text/plain": [
       "['a', 's', 'm', 'a', 's', 'm', 'a', 's', 'm']"
      ]
     },
     "execution_count": 27,
     "metadata": {},
     "output_type": "execute_result"
    }
   ],
   "source": [
    "l2=[\"a\",\"s\",\"m\"]\n",
    "l2*3"
   ]
  },
  {
   "cell_type": "code",
   "execution_count": 28,
   "id": "d22e19f4",
   "metadata": {},
   "outputs": [
    {
     "name": "stdout",
     "output_type": "stream",
     "text": [
      "yes\n"
     ]
    }
   ],
   "source": [
    "if 2 in mark:\n",
    "    print(\"yes\")\n",
    "else:\n",
    "    print(\"No\")"
   ]
  },
  {
   "cell_type": "code",
   "execution_count": 29,
   "id": "dc54f4f1",
   "metadata": {},
   "outputs": [
    {
     "name": "stdout",
     "output_type": "stream",
     "text": [
      "True\n"
     ]
    }
   ],
   "source": [
    "fruit=[\"apple\",\"grapes\"]                          #copy(clone data)\n",
    "a=fruit.copy()\n",
    "print(a is not fruit)\n"
   ]
  },
  {
   "cell_type": "code",
   "execution_count": 30,
   "id": "d048a371",
   "metadata": {},
   "outputs": [
    {
     "name": "stdout",
     "output_type": "stream",
     "text": [
      "Yes\n"
     ]
    }
   ],
   "source": [
    "if \"As\" in \"Asmit\":\n",
    "    print(\"Yes\")\n",
    "else:\n",
    "    print(\"No\")"
   ]
  },
  {
   "cell_type": "markdown",
   "id": "1f23b66c",
   "metadata": {},
   "source": [
    "# List comprehension"
   ]
  },
  {
   "cell_type": "code",
   "execution_count": 31,
   "id": "81ed2a08",
   "metadata": {},
   "outputs": [
    {
     "data": {
      "text/plain": [
       "[0, 1, 2, 3, 4, 5, 6, 7, 8, 9, 10, 11, 12, 13, 14]"
      ]
     },
     "execution_count": 31,
     "metadata": {},
     "output_type": "execute_result"
    }
   ],
   "source": [
    "list=[i for i in range(15)]\n",
    "list"
   ]
  },
  {
   "cell_type": "code",
   "execution_count": 32,
   "id": "a2bd05e0",
   "metadata": {},
   "outputs": [
    {
     "data": {
      "text/plain": [
       "['Aayush']"
      ]
     },
     "execution_count": 32,
     "metadata": {},
     "output_type": "execute_result"
    }
   ],
   "source": [
    "Names=[\"Asmit\",\"Alish\",\"Aayush\",\"Alina\"]\n",
    "[i for i in Names if (len(i)>5)]"
   ]
  },
  {
   "cell_type": "code",
   "execution_count": null,
   "id": "4ea94ac8",
   "metadata": {},
   "outputs": [],
   "source": []
  },
  {
   "cell_type": "code",
   "execution_count": null,
   "id": "1171f7da",
   "metadata": {},
   "outputs": [],
   "source": []
  },
  {
   "cell_type": "code",
   "execution_count": null,
   "id": "c1b6b686",
   "metadata": {},
   "outputs": [],
   "source": []
  }
 ],
 "metadata": {
  "kernelspec": {
   "display_name": "Python 3 (ipykernel)",
   "language": "python",
   "name": "python3"
  },
  "language_info": {
   "codemirror_mode": {
    "name": "ipython",
    "version": 3
   },
   "file_extension": ".py",
   "mimetype": "text/x-python",
   "name": "python",
   "nbconvert_exporter": "python",
   "pygments_lexer": "ipython3",
   "version": "3.9.13"
  }
 },
 "nbformat": 4,
 "nbformat_minor": 5
}
