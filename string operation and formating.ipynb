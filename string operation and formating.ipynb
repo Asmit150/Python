{
 "cells": [
  {
   "cell_type": "code",
   "execution_count": 1,
   "id": "d05d2455",
   "metadata": {},
   "outputs": [
    {
     "name": "stdout",
     "output_type": "stream",
     "text": [
      "5\n",
      "ASMIT\n",
      "asmit\n"
     ]
    }
   ],
   "source": [
    "Name=\"Asmit\"\n",
    "print(len(Name))\n",
    "print(Name.upper())\n",
    "print(Name.lower())"
   ]
  },
  {
   "cell_type": "code",
   "execution_count": 2,
   "id": "3ffe91d5",
   "metadata": {},
   "outputs": [
    {
     "name": "stdout",
     "output_type": "stream",
     "text": [
      "!!Aayush!!!! \n",
      "!!Asmit!!!! \n",
      "['Alish', 'Aayush', 'Nishan']\n"
     ]
    }
   ],
   "source": [
    "name=\"!!Aayush!!!! \"\n",
    "print(name.rstrip(\"!\"))   #only update in last\n",
    "print(name.replace(\"Aayush\",\"Asmit\"))\n",
    "brother=\"Alish Aayush Nishan\"\n",
    "e=print(brother.split(\" \"))\n",
    "e       #had to have a space in statement for split or change strig to list"
   ]
  },
  {
   "cell_type": "code",
   "execution_count": 3,
   "id": "8a3a0956",
   "metadata": {},
   "outputs": [
    {
     "name": "stdout",
     "output_type": "stream",
     "text": [
      "!!Aayush!!!!\n"
     ]
    }
   ],
   "source": [
    "print(name.strip())"
   ]
  },
  {
   "cell_type": "code",
   "execution_count": 4,
   "id": "b7ca4c2f",
   "metadata": {},
   "outputs": [
    {
     "name": "stdout",
     "output_type": "stream",
     "text": [
      "Aananda bhumi boys hostel\n"
     ]
    }
   ],
   "source": [
    "hostel=\"aananda bhumi Boys Hostel\"\n",
    "print(hostel.capitalize())   #to change first character in uppercase"
   ]
  },
  {
   "cell_type": "code",
   "execution_count": 5,
   "id": "9cb82c29",
   "metadata": {},
   "outputs": [
    {
     "name": "stdout",
     "output_type": "stream",
     "text": [
      "i love nepal\n"
     ]
    }
   ],
   "source": [
    "a=\"I Love nEpal\"\n",
    "print(a.casefold())    #"
   ]
  },
  {
   "cell_type": "markdown",
   "id": "58ad2df5",
   "metadata": {},
   "source": [
    "# String formating\n",
    "\n"
   ]
  },
  {
   "cell_type": "code",
   "execution_count": 33,
   "id": "e49a0282",
   "metadata": {},
   "outputs": [
    {
     "name": "stdout",
     "output_type": "stream",
     "text": [
      "Hey my name is Asmit oli and I live in Nepal.\n",
      "Hey my name is Asmit oli and I live in Nepal.\n"
     ]
    }
   ],
   "source": [
    "info=\"Hey my name is {1} and I live in {0}.\"\n",
    "name=\"Asmit oli\"\n",
    "country=\"Nepal\"\n",
    "#print(info.format(name,country))\n",
    "print(info.format(country,name))   #this get mismatch so we use '0' '1'\n",
    "#for even better we use f formating\n",
    "print(f\"Hey my name is {name} and I live in {country}.\")"
   ]
  },
  {
   "cell_type": "code",
   "execution_count": 34,
   "id": "f0a32d6d",
   "metadata": {},
   "outputs": [
    {
     "name": "stdout",
     "output_type": "stream",
     "text": [
      "for only 149.34.\n"
     ]
    }
   ],
   "source": [
    "mango_price=149.3424\n",
    "print(f\"for only {mango_price:.2f}\")"
   ]
  },
  {
   "cell_type": "code",
   "execution_count": 38,
   "id": "6a98f227",
   "metadata": {},
   "outputs": [
    {
     "name": "stdout",
     "output_type": "stream",
     "text": [
      "Enter a string: Asmit\n",
      "Enter a rool number: 3\n",
      "Your name is Asmit and rool number is 3\n",
      "Your name is  Asmit\n",
      "your name is Asmit and rool no is 3 .\n"
     ]
    }
   ],
   "source": [
    "name=input(\"Enter a string: \")\n",
    "rolno=input(\"Enter a rool number: \")\n",
    "print(\"Your name is \"+name+\" and rool number is \"+rolno)\n",
    "print(\"Your name is \",name)\n",
    "print(f\"your name is {name} and rool no is {rolno} .\")#.format(name,rolno))\n"
   ]
  },
  {
   "cell_type": "code",
   "execution_count": 41,
   "id": "2f7a7b15",
   "metadata": {},
   "outputs": [
    {
     "name": "stdout",
     "output_type": "stream",
     "text": [
      "Enter your Email: oli@gmail.com\n",
      "your name is oli and domain is gmail .\n",
      "your domain is gmail and name is oli .\n",
      "your name is oli and domain is gmail .\n"
     ]
    }
   ],
   "source": [
    "email=input(\"Enter your Email: \")\n",
    "name2=email[:email.index(\"@\")]\n",
    "domain=email[email.index(\"@\")+1:email.index(\".\")]\n",
    "print(\"your name is {} and domain is {} .\".format(name2,domain))\n",
    "print(\"your domain is {1} and name is {0} .\".format(name2,domain))\n",
    "print(f\"your name is {name2} and domain is {domain} .\")"
   ]
  },
  {
   "cell_type": "code",
   "execution_count": 27,
   "id": "78a30849",
   "metadata": {},
   "outputs": [
    {
     "name": "stdout",
     "output_type": "stream",
     "text": [
      "                   I love nepal                   \n",
      "2\n",
      "True\n",
      "True\n"
     ]
    }
   ],
   "source": [
    "info=\"I love nepal\"\n",
    "print(info.center(50))\n",
    "print(info.count(\"l\"))\n",
    "print(info.endswith(\"nepal\")) #check if the string end with given value\n",
    "print(info.endswith(\"love\",0,6))"
   ]
  },
  {
   "cell_type": "markdown",
   "id": "9838e24a",
   "metadata": {},
   "source": [
    "# docstring\n",
    "docstring is the string used right after the definition of function and used to document our code"
   ]
  },
  {
   "cell_type": "code",
   "execution_count": 35,
   "id": "1fee3084",
   "metadata": {},
   "outputs": [
    {
     "name": "stdout",
     "output_type": "stream",
     "text": [
      "25\n",
      "take the number n and return square of n\n"
     ]
    }
   ],
   "source": [
    "def square(n):\n",
    "    '''take the number n and return square of n'''\n",
    "    print(n**2)\n",
    "square(5)\n",
    "print(square.__doc__)"
   ]
  },
  {
   "cell_type": "code",
   "execution_count": null,
   "id": "0e29dff5",
   "metadata": {},
   "outputs": [],
   "source": []
  }
 ],
 "metadata": {
  "kernelspec": {
   "display_name": "Python 3 (ipykernel)",
   "language": "python",
   "name": "python3"
  },
  "language_info": {
   "codemirror_mode": {
    "name": "ipython",
    "version": 3
   },
   "file_extension": ".py",
   "mimetype": "text/x-python",
   "name": "python",
   "nbconvert_exporter": "python",
   "pygments_lexer": "ipython3",
   "version": "3.9.13"
  }
 },
 "nbformat": 4,
 "nbformat_minor": 5
}
