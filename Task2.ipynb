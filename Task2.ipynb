{
 "cells": [
  {
   "cell_type": "code",
   "execution_count": 1,
   "id": "f844345e",
   "metadata": {},
   "outputs": [],
   "source": [
    "# Write a program that accept an integer(n) and compute the value of n+nn+nnn..."
   ]
  },
  {
   "cell_type": "code",
   "execution_count": 41,
   "id": "a9815c7d",
   "metadata": {},
   "outputs": [
    {
     "name": "stdout",
     "output_type": "stream",
     "text": [
      "Enter a number5\n",
      "61725\n"
     ]
    }
   ],
   "source": [
    "n=int(input(\"Enter a number\"))\n",
    "a=(f\"{n}\")\n",
    "b=(f\"{n}{n}\")\n",
    "c=(f\"{n}{n}{n}\")\n",
    "d=(f\"{n}{n}{n}{n}\")\n",
    "e=(f\"{n}{n}{n}{n}{n}\")\n",
    "sum=int(a)+int(b)+int(c)+int(d)+int(e)\n",
    "print(sum)"
   ]
  },
  {
   "cell_type": "code",
   "execution_count": 3,
   "id": "20c7ed88",
   "metadata": {},
   "outputs": [],
   "source": [
    "'''Write a python program to calculate the difference betweeen the given number and 17. if the number is greater than\n",
    " 17 then return twice the absolute difference\n",
    " '''\n",
    "\n",
    "num = float(input(\"Enter a number: \"))\n",
    "#  difference between the number and 17\n",
    "result=num-17\n",
    "print(\"The difference between the number and 17 is \",result)\n",
    "if num >=17:\n",
    "    num= (num-17)*2\n",
    "    print(num)"
   ]
  },
  {
   "cell_type": "code",
   "execution_count": 5,
   "id": "a121d851",
   "metadata": {},
   "outputs": [],
   "source": [
    "# write a python program to check whether a input number is prime or not\n",
    "inp2=int(input(\"Enter any number\"))\n",
    "if inp2<=1:\n",
    "    print(f\"{inp2} is not prime number\")\n",
    "if inp2 >1:\n",
    "    for i in range(2,inp2):\n",
    "        if inp2 % i==0:\n",
    "            print(f\"{inp2} is not prime number\")\n",
    "            break\n",
    "    else:\n",
    "        \n",
    "        print(f\"{inp2} is prime number\")\n",
    " "
   ]
  },
  {
   "cell_type": "code",
   "execution_count": null,
   "id": "9dbdc80d",
   "metadata": {},
   "outputs": [],
   "source": []
  },
  {
   "cell_type": "code",
   "execution_count": null,
   "id": "77e8df08",
   "metadata": {},
   "outputs": [],
   "source": []
  },
  {
   "cell_type": "code",
   "execution_count": null,
   "id": "7cf2801a",
   "metadata": {},
   "outputs": [],
   "source": [
    "\n"
   ]
  }
 ],
 "metadata": {
  "kernelspec": {
   "display_name": "Python 3 (ipykernel)",
   "language": "python",
   "name": "python3"
  },
  "language_info": {
   "codemirror_mode": {
    "name": "ipython",
    "version": 3
   },
   "file_extension": ".py",
   "mimetype": "text/x-python",
   "name": "python",
   "nbconvert_exporter": "python",
   "pygments_lexer": "ipython3",
   "version": "3.9.13"
  }
 },
 "nbformat": 4,
 "nbformat_minor": 5
}
