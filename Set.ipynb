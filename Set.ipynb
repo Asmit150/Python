{
 "cells": [
  {
   "cell_type": "code",
   "execution_count": null,
   "id": "04626646",
   "metadata": {},
   "outputs": [],
   "source": [
    "# Set (Unordered,Unindixed,No duplicate)"
   ]
  },
  {
   "cell_type": "code",
   "execution_count": 1,
   "id": "9d8cbd66",
   "metadata": {},
   "outputs": [
    {
     "name": "stdout",
     "output_type": "stream",
     "text": [
      "<class 'dict'>\n",
      "<class 'set'>\n",
      "{True, 2, 'HI', 4, 'Bye'}\n"
     ]
    }
   ],
   "source": [
    "b={}\n",
    "print(type(b))\n",
    "a={2,\"HI\",\"Bye\",True,2,4}\n",
    "print(type(a))\n",
    "print(a)"
   ]
  },
  {
   "cell_type": "code",
   "execution_count": 2,
   "id": "71ee95e4",
   "metadata": {},
   "outputs": [
    {
     "name": "stdout",
     "output_type": "stream",
     "text": [
      "{True, 2, 'HI', 4, 'Bye', 'apple'}\n"
     ]
    }
   ],
   "source": [
    "a.add(\"apple\")\n",
    "print(a)"
   ]
  },
  {
   "cell_type": "code",
   "execution_count": 3,
   "id": "d2f17bff",
   "metadata": {},
   "outputs": [
    {
     "name": "stdout",
     "output_type": "stream",
     "text": [
      "{True, 2, 'HI', 4, 'Bye', 'apple'}\n"
     ]
    }
   ],
   "source": [
    "a.add(\"apple\")\n",
    "print(a)"
   ]
  },
  {
   "cell_type": "code",
   "execution_count": 4,
   "id": "3981bca9",
   "metadata": {},
   "outputs": [
    {
     "name": "stdout",
     "output_type": "stream",
     "text": [
      "{True, 2, 'HI', 4, 7, 6, 'Bye', 'apple'}\n"
     ]
    }
   ],
   "source": [
    "a.update({6,7})\n",
    "print(a)"
   ]
  },
  {
   "cell_type": "code",
   "execution_count": 5,
   "id": "b2776a44",
   "metadata": {},
   "outputs": [],
   "source": [
    "del(a)    #value and set is also deleted\n",
    "          clear(a) set value delete all "
   ]
  },
  {
   "cell_type": "markdown",
   "id": "df41a4a7",
   "metadata": {},
   "source": [
    "# Union, intersection and difference "
   ]
  },
  {
   "cell_type": "code",
   "execution_count": 6,
   "id": "c36793f3",
   "metadata": {},
   "outputs": [],
   "source": [
    "A={1,2,3,4}\n",
    "B={3,4,5,6}"
   ]
  },
  {
   "cell_type": "code",
   "execution_count": 7,
   "id": "ad907c7c",
   "metadata": {},
   "outputs": [
    {
     "data": {
      "text/plain": [
       "{1, 2, 3, 4, 5, 6}"
      ]
     },
     "execution_count": 7,
     "metadata": {},
     "output_type": "execute_result"
    }
   ],
   "source": [
    "A.union(B)"
   ]
  },
  {
   "cell_type": "code",
   "execution_count": 8,
   "id": "893a8264",
   "metadata": {},
   "outputs": [
    {
     "data": {
      "text/plain": [
       "{3, 4}"
      ]
     },
     "execution_count": 8,
     "metadata": {},
     "output_type": "execute_result"
    }
   ],
   "source": [
    "A.intersection(B)   "
   ]
  },
  {
   "cell_type": "code",
   "execution_count": 9,
   "id": "ddec739a",
   "metadata": {},
   "outputs": [
    {
     "data": {
      "text/plain": [
       "{1, 2}"
      ]
     },
     "execution_count": 9,
     "metadata": {},
     "output_type": "execute_result"
    }
   ],
   "source": [
    "A.difference(B) #A-b"
   ]
  },
  {
   "cell_type": "code",
   "execution_count": 10,
   "id": "0204f14d",
   "metadata": {},
   "outputs": [
    {
     "data": {
      "text/plain": [
       "{5, 6}"
      ]
     },
     "execution_count": 10,
     "metadata": {},
     "output_type": "execute_result"
    }
   ],
   "source": [
    "B.difference(A)   #B-A"
   ]
  },
  {
   "cell_type": "code",
   "execution_count": 20,
   "id": "d0508eed",
   "metadata": {},
   "outputs": [
    {
     "name": "stdout",
     "output_type": "stream",
     "text": [
      "{'Lalitpur', 'Surkhet', 'Kathmandu', 'Dang'}\n"
     ]
    }
   ],
   "source": [
    "District1={\"Dang\",\"Chitwan\",\"Pokhara\",\"Kathmandu\"}\n",
    "District2={\"Chitwan\",\"Lalitpur\",\"Pokhara\",\"Surkhet\"}\n",
    "District3=District1.symmetric_difference(District2)\n",
    "print(District3)"
   ]
  },
  {
   "cell_type": "markdown",
   "id": "2c09ffba",
   "metadata": {},
   "source": [
    "# Set Comphrenhension"
   ]
  },
  {
   "cell_type": "code",
   "execution_count": 11,
   "id": "ae4beca4",
   "metadata": {},
   "outputs": [
    {
     "data": {
      "text/plain": [
       "{0, 2, 4, 6, 8, 10}"
      ]
     },
     "execution_count": 11,
     "metadata": {},
     "output_type": "execute_result"
    }
   ],
   "source": [
    "{i for i in range(11) if i%2==0 }\n"
   ]
  }
 ],
 "metadata": {
  "kernelspec": {
   "display_name": "Python 3 (ipykernel)",
   "language": "python",
   "name": "python3"
  },
  "language_info": {
   "codemirror_mode": {
    "name": "ipython",
    "version": 3
   },
   "file_extension": ".py",
   "mimetype": "text/x-python",
   "name": "python",
   "nbconvert_exporter": "python",
   "pygments_lexer": "ipython3",
   "version": "3.9.13"
  }
 },
 "nbformat": 4,
 "nbformat_minor": 5
}
